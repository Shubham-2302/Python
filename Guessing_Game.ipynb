{
 "cells": [
  {
   "cell_type": "code",
   "execution_count": 12,
   "metadata": {},
   "outputs": [],
   "source": [
    "import random\n",
    "import logging\n",
    "log = logging.Logger(name = \"Game_Logger\",level = logging.DEBUG)\n"
   ]
  },
  {
   "cell_type": "code",
   "execution_count": 13,
   "metadata": {},
   "outputs": [],
   "source": [
    "#Taking inputs\n",
    "lower = int(input(\"Enter a lower bound for the number :- \"))\n",
    "upper = int(input(\"Enter a upper bound for the number :- \"))\n"
   ]
  },
  {
   "cell_type": "code",
   "execution_count": 14,
   "metadata": {},
   "outputs": [],
   "source": [
    "import math\n",
    "answer = random.randint(lower,upper)\n",
    "limit = round(math.log((upper-lower),2)+1)\n",
    "log.debug(\" Computer can gues the number in {} guesses \".format(limit))\n",
    "log.debug(\"Let's see how many guess it takes you to do it?\")\n",
    "\n"
   ]
  },
  {
   "cell_type": "code",
   "execution_count": 15,
   "metadata": {},
   "outputs": [
    {
     "name": "stdout",
     "output_type": "stream",
     "text": [
      "Checking .........\n",
      "guess too small\n",
      "Checking .........\n",
      "guess too small\n"
     ]
    },
    {
     "ename": "ValueError",
     "evalue": "invalid literal for int() with base 10: ''",
     "output_type": "error",
     "traceback": [
      "\u001b[0;31m---------------------------------------------------------------------------\u001b[0m",
      "\u001b[0;31mValueError\u001b[0m                                Traceback (most recent call last)",
      "\u001b[1;32m/home/shubham/PythonProject/Guessing_Game.ipynb Cell 4\u001b[0m line \u001b[0;36m6\n\u001b[1;32m      <a href='vscode-notebook-cell:/home/shubham/PythonProject/Guessing_Game.ipynb#W4sZmlsZQ%3D%3D?line=2'>3</a>\u001b[0m strike \u001b[39m=\u001b[39m \u001b[39m0\u001b[39m\n\u001b[1;32m      <a href='vscode-notebook-cell:/home/shubham/PythonProject/Guessing_Game.ipynb#W4sZmlsZQ%3D%3D?line=4'>5</a>\u001b[0m \u001b[39mwhile\u001b[39;00m(count\u001b[39m<\u001b[39m\u001b[39m=\u001b[39mlimit):\n\u001b[0;32m----> <a href='vscode-notebook-cell:/home/shubham/PythonProject/Guessing_Game.ipynb#W4sZmlsZQ%3D%3D?line=5'>6</a>\u001b[0m     number \u001b[39m=\u001b[39m \u001b[39mint\u001b[39;49m(\u001b[39minput\u001b[39;49m(\u001b[39m\"\u001b[39;49m\u001b[39mGuess a number\u001b[39;49m\u001b[39m\"\u001b[39;49m))\n\u001b[1;32m      <a href='vscode-notebook-cell:/home/shubham/PythonProject/Guessing_Game.ipynb#W4sZmlsZQ%3D%3D?line=6'>7</a>\u001b[0m     count \u001b[39m+\u001b[39m\u001b[39m=\u001b[39m\u001b[39m1\u001b[39m\n\u001b[1;32m     <a href='vscode-notebook-cell:/home/shubham/PythonProject/Guessing_Game.ipynb#W4sZmlsZQ%3D%3D?line=9'>10</a>\u001b[0m     \u001b[39mprint\u001b[39m(\u001b[39m\"\u001b[39m\u001b[39mChecking .........\u001b[39m\u001b[39m\"\u001b[39m)\n",
      "\u001b[0;31mValueError\u001b[0m: invalid literal for int() with base 10: ''"
     ]
    }
   ],
   "source": [
    "#Guessing and checking\n",
    "count=0\n",
    "strike = 0\n",
    "\n",
    "while(count<=limit):\n",
    "    number = int(input(\"Guess a number\"))\n",
    "    count +=1\n",
    "\n",
    "\n",
    "    print(\"Checking .........\")\n",
    "\n",
    "    if(answer == number):\n",
    "        print(\"Damn you are good at it\",f\" \\t You took {count} tries\")\n",
    "        break\n",
    "    elif(number < answer):\n",
    "        print(\"guess too small\")\n",
    "    elif(number > answer):\n",
    "        print(\"guess too big\")\n",
    "    elif(number>upper or number < lower):\n",
    "        log.warning(\"Watch your guesses man\")\n",
    "    elif(number<0):\n",
    "        log.error(\"Invalid Number man\")\n",
    "        strike +=1\n",
    "        print(\"3 strikes and you are out, Current Strike %d\",strike)\n",
    "    elif(type(number)!=int):\n",
    "        log.critical(\"Tu ghar ja tere liye hain hi nahin yeh game\")\n",
    "\n",
    "\n",
    "\n",
    "        \n",
    "\n",
    "print(f\" the number was {answer}\")"
   ]
  },
  {
   "cell_type": "code",
   "execution_count": null,
   "metadata": {},
   "outputs": [
    {
     "name": "stdout",
     "output_type": "stream",
     "text": [
      "Shuffled List 1: [4, 2, 5, 3, 1]\n",
      "Shuffled List 1.2: [1, 2, 3, 4, 5]\n",
      "Shuffled List 1.3: [4, 2, 5, 3, 1]\n"
     ]
    }
   ],
   "source": [
    "# System Selects a random integer\n",
    "# https://www.geeksforgeeks.org/python-random-function/\n",
    "#Random seed is used to repeat same randomness sickke\n",
    "\n",
    "# Setting the seed\n",
    "random.seed(123)\n",
    "\n",
    "# Shuffling a list\n",
    "list1 = [1, 2, 3, 4, 5]\n",
    "random.shuffle(list1)\n",
    "print(\"Shuffled List 1:\", list1)\n",
    "random.shuffle(list1)\n",
    "print(\"Shuffled List 1.2:\", list1)\n",
    "random.seed(123)\n",
    "random.shuffle(list1)\n",
    "\n",
    "print(\"Shuffled List 1.3:\", list1)\n",
    "\n",
    "\n",
    "\n"
   ]
  },
  {
   "cell_type": "code",
   "execution_count": null,
   "metadata": {},
   "outputs": [
    {
     "name": "stdout",
     "output_type": "stream",
     "text": [
      "With list: [3, 1, 5]\n",
      "With string: ['o', 'G', 'k', 'f']\n",
      "With tuple: ['computer', 'ankit', 'geeks', 'portal']\n"
     ]
    }
   ],
   "source": [
    "# import random  \n",
    "import random \n",
    "  \n",
    "  \n",
    "# Prints list of random items of \n",
    "# length 3 from the given list. \n",
    "list1 = [1, 2, 3, 4, 5, 6]  \n",
    "print(\"With list:\", random.sample(list1, 3)) \n",
    "  \n",
    "# Prints list of random items of \n",
    "# length 4 from the given string.  \n",
    "string = \"GeeksforGeeks\"\n",
    "print(\"With string:\", random.sample(string, 4)) \n",
    "  \n",
    "# Prints list of random items of \n",
    "# length 4 from the given tuple. \n",
    "tuple1 = (\"ankit\", \"geeks\", \"computer\", \"science\", \n",
    "                   \"portal\", \"scientist\", \"btech\") \n",
    "print(\"With tuple:\", random.sample(tuple1, 4)) \n",
    "  \n"
   ]
  }
 ],
 "metadata": {
  "kernelspec": {
   "display_name": "Python 3",
   "language": "python",
   "name": "python3"
  },
  "language_info": {
   "codemirror_mode": {
    "name": "ipython",
    "version": 3
   },
   "file_extension": ".py",
   "mimetype": "text/x-python",
   "name": "python",
   "nbconvert_exporter": "python",
   "pygments_lexer": "ipython3",
   "version": "3.10.12"
  }
 },
 "nbformat": 4,
 "nbformat_minor": 2
}
